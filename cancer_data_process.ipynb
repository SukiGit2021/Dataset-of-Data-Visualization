{
 "cells": [
  {
   "cell_type": "code",
   "execution_count": null,
   "metadata": {},
   "outputs": [],
   "source": [
    "# data process"
   ]
  },
  {
   "cell_type": "code",
   "execution_count": 57,
   "metadata": {},
   "outputs": [],
   "source": [
    "import pandas as pd\n",
    "import numpy as np"
   ]
  },
  {
   "cell_type": "code",
   "execution_count": 100,
   "metadata": {},
   "outputs": [],
   "source": [
    "def dataProcess(file_name,cancer_name):\n",
    "    df = pd.read_csv(file_name)\n",
    "    population_2002 = 0\n",
    "    population_2003 = 0\n",
    "    population_2004 = 0\n",
    "    population_2005 = 0\n",
    "    population_2006 = 0\n",
    "    population_2007 = 0\n",
    "    population_2008 = 0\n",
    "    population_2009 = 0\n",
    "    population_2010 = 0\n",
    "    population_2011 = 0\n",
    "    population_2012 = 0\n",
    "    for index,row in df.iterrows():\n",
    "        if row.Year == 2002:\n",
    "            population_2002+= row.Population\n",
    "        elif row.Year == 2003:\n",
    "            population_2003+= row.Population\n",
    "        elif row.Year == 2004:\n",
    "            population_2004+= row.Population\n",
    "        elif row.Year == 2005:\n",
    "            population_2005+= row.Population\n",
    "        elif row.Year == 2006:\n",
    "            population_2006+= row.Population\n",
    "        elif row.Year == 2007:\n",
    "            population_2007+= row.Population\n",
    "        elif row.Year == 2008:\n",
    "            population_2008+= row.Population\n",
    "        elif row.Year == 2009:\n",
    "            population_2009+= row.Population\n",
    "        elif row.Year == 2010:\n",
    "            population_2010+= row.Population\n",
    "        elif row.Year == 2011:\n",
    "            population_2011+= row.Population\n",
    "        else:\n",
    "            population_2012+= row.Population\n",
    "    df = pd.DataFrame(np.array([[cancer_name,2002,population_2002],[cancer_name,2003,population_2003],[cancer_name,2004,population_2004],[cancer_name,2005,population_2005],[cancer_name,2006,population_2006],[cancer_name,2007,population_2007],[cancer_name,2008,population_2008],[cancer_name,2009,population_2009],[cancer_name,2010,population_2010],[cancer_name,2011,population_2011],[cancer_name,2012,population_2012]]),\n",
    "                     columns = ['cancer','year','cancer population'])\n",
    "    df.to_csv(f'{cancer_name}_population.csv',index=False, encoding='utf-8')"
   ]
  },
  {
   "cell_type": "code",
   "execution_count": 101,
   "metadata": {},
   "outputs": [],
   "source": [
    "dataProcess('cancer_female_breast.csv','female_breast')"
   ]
  },
  {
   "cell_type": "code",
   "execution_count": 102,
   "metadata": {},
   "outputs": [],
   "source": [
    "dataProcess('cancer_liver_bile_duct.csv','liver_cancer')"
   ]
  },
  {
   "cell_type": "code",
   "execution_count": 103,
   "metadata": {},
   "outputs": [],
   "source": [
    "dataProcess('cancer_lung_bronchus.csv','lung_cancer')"
   ]
  },
  {
   "cell_type": "code",
   "execution_count": 104,
   "metadata": {},
   "outputs": [],
   "source": [
    "dataProcess('cancer_oral_pharynx.csv','oral_cancer')"
   ]
  },
  {
   "cell_type": "code",
   "execution_count": 105,
   "metadata": {},
   "outputs": [],
   "source": [
    "dataProcess('cancer_thyroid.csv','thyroid_cancer')"
   ]
  }
 ],
 "metadata": {
  "kernelspec": {
   "display_name": "Python 3",
   "language": "python",
   "name": "python3"
  },
  "language_info": {
   "codemirror_mode": {
    "name": "ipython",
    "version": 3
   },
   "file_extension": ".py",
   "mimetype": "text/x-python",
   "name": "python",
   "nbconvert_exporter": "python",
   "pygments_lexer": "ipython3",
   "version": "3.8.3"
  }
 },
 "nbformat": 4,
 "nbformat_minor": 4
}
