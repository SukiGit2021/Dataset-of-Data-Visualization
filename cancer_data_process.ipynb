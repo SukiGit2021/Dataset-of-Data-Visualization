{
 "cells": [
  {
   "cell_type": "code",
   "execution_count": null,
   "metadata": {},
   "outputs": [],
   "source": [
    "# data process"
   ]
  },
  {
   "cell_type": "code",
   "execution_count": 96,
   "metadata": {},
   "outputs": [],
   "source": [
    "import pandas as pd\n",
    "import numpy as np\n",
    "def dataProcess(file_name,cancer_name):\n",
    "    df = pd.read_csv(file_name)\n",
    "    population_2002 = 0\n",
    "    population_2003 = 0\n",
    "    population_2004 = 0\n",
    "    population_2005 = 0\n",
    "    population_2006 = 0\n",
    "    population_2007 = 0\n",
    "    population_2008 = 0\n",
    "    population_2009 = 0\n",
    "    population_2010 = 0\n",
    "    population_2011 = 0\n",
    "    population_2012 = 0\n",
    "    for index,row in df.iterrows():\n",
    "        if row.Year == 2002:\n",
    "            population_2002+= row.Population\n",
    "        elif row.Year == 2003:\n",
    "            population_2003+= row.Population\n",
    "        elif row.Year == 2004:\n",
    "            population_2004+= row.Population\n",
    "        elif row.Year == 2005:\n",
    "            population_2005+= row.Population\n",
    "        elif row.Year == 2006:\n",
    "            population_2006+= row.Population\n",
    "        elif row.Year == 2007:\n",
    "            population_2007+= row.Population\n",
    "        elif row.Year == 2008:\n",
    "            population_2008+= row.Population\n",
    "        elif row.Year == 2009:\n",
    "            population_2009+= row.Population\n",
    "        elif row.Year == 2010:\n",
    "            population_2010+= row.Population\n",
    "        elif row.Year == 2011:\n",
    "            population_2011+= row.Population\n",
    "        else:\n",
    "            population_2012+= row.Population\n",
    "    df = pd.DataFrame(np.array([[cancer_name,2002,population_2002],[cancer_name,2003,population_2003],[cancer_name,2004,population_2004],[cancer_name,2005,population_2005],[cancer_name,2006,population_2006],[cancer_name,2007,population_2007],[cancer_name,2008,population_2008],[cancer_name,2009,population_2009],[cancer_name,2010,population_2010],[cancer_name,2011,population_2011],[cancer_name,2012,population_2012]]),\n",
    "                     columns = ['cancer','year','cancerpopulation'])\n",
    "    df.to_csv(f'{cancer_name}_d3.csv',index=False, encoding='utf-8')"
   ]
  },
  {
   "cell_type": "code",
   "execution_count": 97,
   "metadata": {},
   "outputs": [],
   "source": [
    "dataProcess('cancer_female_breast.csv','female_breast')\n",
    "\n",
    "dataProcess('cancer_liver_bile_duct.csv','liver_cancer')\n",
    "\n",
    "dataProcess('cancer_lung_bronchus.csv','lung_cancer')\n",
    "\n",
    "dataProcess('cancer_oral_pharynx.csv','oral_cancer')\n",
    "\n",
    "dataProcess('cancer_thyroid.csv','thyroid_cancer')"
   ]
  },
  {
   "cell_type": "code",
   "execution_count": 92,
   "metadata": {},
   "outputs": [],
   "source": [
    "def smokeprocess(file_name):\n",
    "    df = pd.read_csv(file_name)\n",
    "    df = df.drop(df[df.sex == \"Both\"].index)\n",
    "    df = df.drop(['total_lb', 'total_ub',\n",
    "       'daily_mean', 'daily_lb', 'daily_ub'], 1)\n",
    "    df = df.dropna()\n",
    "    df.to_csv('smoke_clean_d3.csv',index = False,encoding='utf-8')"
   ]
  },
  {
   "cell_type": "code",
   "execution_count": 93,
   "metadata": {},
   "outputs": [],
   "source": [
    "smokeprocess('smoke_csv.csv')"
   ]
  },
  {
   "cell_type": "code",
   "execution_count": 94,
   "metadata": {},
   "outputs": [],
   "source": [
    "def dividefemalegenders(file_name):\n",
    "    df = pd.read_csv(file_name)\n",
    "    df = df.drop(df[df.sex == \"Males\"].index)\n",
    "    df.to_csv('smoke_female_d3.csv',index = False,encoding='utf-8')\n",
    "    \n",
    "def dividemalegenders(file_name):\n",
    "    df = pd.read_csv(file_name)\n",
    "    df = df.drop(df[df.sex == \"Females\"].index)\n",
    "    df.to_csv('smoke_male_d3.csv',index = False,encoding='utf-8')"
   ]
  },
  {
   "cell_type": "code",
   "execution_count": 95,
   "metadata": {},
   "outputs": [],
   "source": [
    "dividefemalegenders('smoke_clean_data.csv')\n",
    "dividemalegenders('smoke_clean_data.csv')"
   ]
  },
  {
   "cell_type": "code",
   "execution_count": 90,
   "metadata": {},
   "outputs": [],
   "source": [
    "def alcoholprocess(file_name,new_file_name):\n",
    "    df = pd.read_csv(file_name)\n",
    "    df = df.drop(['Unnamed: 0','2002 Both Sexes', '2002 Females',\n",
    "       '2002 Males', '2003 Both Sexes', '2003 Females', '2003 Males',\n",
    "       '2004 Both Sexes', '2004 Females', '2004 Males', '2005 Both Sexes',\n",
    "       '2005 Females', '2005 Males', '2006 Both Sexes', '2006 Females',\n",
    "       '2006 Males', '2007 Both Sexes', '2007 Females', '2007 Males',\n",
    "       '2008 Both Sexes', '2008 Females', '2008 Males', '2009 Both Sexes',\n",
    "       '2009 Females', '2009 Males', '2010 Both Sexes', '2010 Females',\n",
    "       '2010 Males', '2011 Both Sexes', '2011 Females', '2011 Males',\n",
    "       '2012 Both Sexes', '2012 Females', '2012 Males',\n",
    "       'Percent Change 2005-2012, Both Sexes',\n",
    "       'Percent Change 2005-2012, Females', 'Percent Change 2005-2012, Males'],1)\n",
    "    df = df.dropna()\n",
    "    df.to_csv(f'{new_file_name}_d3.csv',index = False,encoding='utf-8') "
   ]
  },
  {
   "cell_type": "code",
   "execution_count": 80,
   "metadata": {},
   "outputs": [],
   "source": [
    "alcoholprocess('alcohol_any_clean.csv','anyalcohol')\n",
    "\n",
    "alcoholprocess('alcohol_binge_clean.csv','bingealcohol')\n",
    "\n",
    "alcoholprocess('alcohol_heavy_clean.csv','heavyalcohol')"
   ]
  },
  {
   "cell_type": "code",
   "execution_count": 108,
   "metadata": {},
   "outputs": [],
   "source": [
    "def consumption(file_name,new_filename):\n",
    "    df = pd.read_csv(file_name)\n",
    "    df = df.drop(['Unnamed: 0','description'],1)\n",
    "    df.to_csv(f'{new_filename}_d3.csv',index = False,encoding='utf-8') "
   ]
  },
  {
   "cell_type": "code",
   "execution_count": 110,
   "metadata": {},
   "outputs": [],
   "source": [
    "consumption('male_xml_df_clean.csv','maledrinkxml')\n",
    "consumption('female_xml_df_clean.csv','femaledrinkxml')"
   ]
  },
  {
   "cell_type": "code",
   "execution_count": 15,
   "metadata": {},
   "outputs": [
    {
     "data": {
      "text/plain": [
       "RangeIndex(start=0, stop=34397, step=1)"
      ]
     },
     "execution_count": 15,
     "metadata": {},
     "output_type": "execute_result"
    }
   ],
   "source": [
    "df.index"
   ]
  },
  {
   "cell_type": "code",
   "execution_count": 28,
   "metadata": {},
   "outputs": [],
   "source": [
    "import pandas as pd\n",
    "def calculator(file_name,state_name):\n",
    "    df = pd.read_csv(file_name)\n",
    "    calculator = 0\n",
    "    index_ = []\n",
    "    for index,row in df.iterrows():\n",
    "        if row.year == 2012 and row.state == state_name  and index <= 34397:\n",
    "            calculator+=row.total_mean\n",
    "            index_.append(index)\n",
    "    print(f'{state_name} result: '+str(calculator/(len(index_))))"
   ]
  },
  {
   "cell_type": "code",
   "execution_count": 29,
   "metadata": {},
   "outputs": [
    {
     "name": "stdout",
     "output_type": "stream",
     "text": [
      "Alabama result: 22.63492537313433\n"
     ]
    }
   ],
   "source": [
    "calculator('smoke_female_d3.csv','Alabama')"
   ]
  },
  {
   "cell_type": "code",
   "execution_count": null,
   "metadata": {},
   "outputs": [],
   "source": [
    "calculator('smoke_female_d3.csv','Alabama')"
   ]
  },
  {
   "cell_type": "code",
   "execution_count": 15,
   "metadata": {},
   "outputs": [
    {
     "data": {
      "text/plain": [
       "RangeIndex(start=0, stop=68794, step=1)"
      ]
     },
     "execution_count": 15,
     "metadata": {},
     "output_type": "execute_result"
    }
   ],
   "source": [
    "df = pd.read_csv('smoke_clean_d3.csv')\n",
    "df.index\n"
   ]
  },
  {
   "cell_type": "code",
   "execution_count": 46,
   "metadata": {},
   "outputs": [],
   "source": [
    "import pandas as pd\n",
    "def calculator(file_name,state_name):\n",
    "    df = pd.read_csv(file_name)\n",
    "    calculator_male_2002 = 0\n",
    "    calculator_female_2002 = 0\n",
    "    index_male_2002 = []\n",
    "    index_female_2002 = []\n",
    "    calculator_male_2012 = 0\n",
    "    calculator_female_2012 = 0\n",
    "    index_male_2012 = []\n",
    "    index_female_2012 = []\n",
    "    female_2002=0\n",
    "    female_2012=0\n",
    "    male_2002=0\n",
    "    male_2012=0\n",
    "    for index,row in df.iterrows():\n",
    "        if row.year == 2002 and row.state == state_name and index <= 68794 and row.sex == \"Females\":\n",
    "            calculator_female_2002+=row.total_mean\n",
    "            index_female_2002.append(index)\n",
    "        if row.year == 2012 and row.state == state_name and index <= 68794 and row.sex == \"Females\":\n",
    "            calculator_female_2012+=row.total_mean\n",
    "            index_female_2012.append(index)\n",
    "        if row.year == 2002 and row.state == state_name and index <= 68794 and row.sex == \"Males\":\n",
    "            calculator_male_2002+=row.total_mean\n",
    "            index_male_2002.append(index)\n",
    "        if row.year == 2012 and row.state == state_name and index <= 68794 and row.sex == \"Males\":\n",
    "            calculator_male_2012+=row.total_mean\n",
    "            index_male_2012.append(index)\n",
    "    \n",
    "    female_2002 = round(calculator_female_2002/(len(index_female_2002)),3)\n",
    "    female_2012 = round(calculator_female_2012/(len(index_female_2012)),3)\n",
    "    male_2002 = round(calculator_male_2002/(len(index_male_2002)),3)\n",
    "    male_2012 = round(calculator_male_2012/(len(index_male_2012)),3)\n",
    "    femaleTrend = round(female_2012-female_2002,3)\n",
    "    maleTrend = round(male_2012-male_2002,3)\n",
    "    print(f'{state_name}: \"femaleBegin\":{female_2002},\"femaleLast\":{female_2012},\"femaleTrend\":{femaleTrend},\"maleBegin\":{male_2002},\"maleLast\":{male_2012},\"maleTrend\":{maleTrend}')"
   ]
  },
  {
   "cell_type": "code",
   "execution_count": 48,
   "metadata": {},
   "outputs": [
    {
     "name": "stdout",
     "output_type": "stream",
     "text": [
      "Alabama: \"femaleBegin\":24.908,\"femaleLast\":22.635,\"femaleTrend\":-2.273,\"maleBegin\":31.22,\"maleLast\":28.84,\"maleTrend\":-2.38\n",
      "Alaska: \"femaleBegin\":29.603,\"femaleLast\":25.069,\"femaleTrend\":-4.534,\"maleBegin\":33.7,\"maleLast\":28.07,\"maleTrend\":-5.63\n",
      "Arizona: \"femaleBegin\":23.148,\"femaleLast\":20.336,\"femaleTrend\":-2.812,\"maleBegin\":27.984,\"maleLast\":25.449,\"maleTrend\":-2.535\n",
      "Arkansas: \"femaleBegin\":27.353,\"femaleLast\":25.093,\"femaleTrend\":-2.26,\"maleBegin\":31.96,\"maleLast\":29.702,\"maleTrend\":-2.258\n",
      "California: \"femaleBegin\":19.425,\"femaleLast\":15.255,\"femaleTrend\":-4.17,\"maleBegin\":24.561,\"maleLast\":20.658,\"maleTrend\":-3.903\n",
      "Colorado: \"femaleBegin\":21.086,\"femaleLast\":18.167,\"femaleTrend\":-2.919,\"maleBegin\":24.253,\"maleLast\":21.797,\"maleTrend\":-2.456\n",
      "Connecticut: \"femaleBegin\":22.191,\"femaleLast\":16.466,\"femaleTrend\":-5.725,\"maleBegin\":24.195,\"maleLast\":19.759,\"maleTrend\":-4.436\n",
      "Delaware: \"femaleBegin\":23.587,\"femaleLast\":21.613,\"femaleTrend\":-1.974,\"maleBegin\":29.02,\"maleLast\":24.333,\"maleTrend\":-4.687\n",
      "District Of Columbia: \"femaleBegin\":20.88,\"femaleLast\":17.86,\"femaleTrend\":-3.02,\"maleBegin\":27.07,\"maleLast\":21.47,\"maleTrend\":-5.6\n",
      "Florida: \"femaleBegin\":25.836,\"femaleLast\":21.599,\"femaleTrend\":-4.237,\"maleBegin\":30.636,\"maleLast\":26.472,\"maleTrend\":-4.164\n",
      "Georgia: \"femaleBegin\":23.874,\"femaleLast\":21.716,\"femaleTrend\":-2.158,\"maleBegin\":30.679,\"maleLast\":27.634,\"maleTrend\":-3.045\n",
      "Hawaii: \"femaleBegin\":19.567,\"femaleLast\":15.87,\"femaleTrend\":-3.697,\"maleBegin\":26.352,\"maleLast\":20.087,\"maleTrend\":-6.265\n",
      "Idaho: \"femaleBegin\":21.762,\"femaleLast\":19.66,\"femaleTrend\":-2.102,\"maleBegin\":24.912,\"maleLast\":22.982,\"maleTrend\":-1.93\n",
      "Illinois: \"femaleBegin\":24.961,\"femaleLast\":22.076,\"femaleTrend\":-2.885,\"maleBegin\":29.36,\"maleLast\":24.544,\"maleTrend\":-4.816\n",
      "Indiana: \"femaleBegin\":28.084,\"femaleLast\":24.182,\"femaleTrend\":-3.902,\"maleBegin\":32.338,\"maleLast\":27.437,\"maleTrend\":-4.901\n",
      "Iowa: \"femaleBegin\":23.596,\"femaleLast\":20.683,\"femaleTrend\":-2.913,\"maleBegin\":27.747,\"maleLast\":23.601,\"maleTrend\":-4.146\n",
      "Kansas: \"femaleBegin\":23.301,\"femaleLast\":20.956,\"femaleTrend\":-2.345,\"maleBegin\":26.549,\"maleLast\":23.927,\"maleTrend\":-2.622\n",
      "Kentucky: \"femaleBegin\":30.335,\"femaleLast\":28.116,\"femaleTrend\":-2.219,\"maleBegin\":34.575,\"maleLast\":30.77,\"maleTrend\":-3.805\n",
      "Louisiana: \"femaleBegin\":25.386,\"femaleLast\":24.03,\"femaleTrend\":-1.356,\"maleBegin\":32.518,\"maleLast\":30.025,\"maleTrend\":-2.493\n",
      "Maine: \"femaleBegin\":23.569,\"femaleLast\":20.063,\"femaleTrend\":-3.506,\"maleBegin\":28.102,\"maleLast\":25.052,\"maleTrend\":-3.05\n",
      "Maryland: \"femaleBegin\":22.024,\"femaleLast\":18.281,\"femaleTrend\":-3.743,\"maleBegin\":27.077,\"maleLast\":21.864,\"maleTrend\":-5.213\n",
      "Massachusetts: \"femaleBegin\":22.451,\"femaleLast\":17.653,\"femaleTrend\":-4.798,\"maleBegin\":23.561,\"maleLast\":20.676,\"maleTrend\":-2.885\n",
      "Michigan: \"femaleBegin\":26.13,\"femaleLast\":23.134,\"femaleTrend\":-2.996,\"maleBegin\":29.368,\"maleLast\":25.44,\"maleTrend\":-3.928\n",
      "Minnesota: \"femaleBegin\":23.451,\"femaleLast\":19.873,\"femaleTrend\":-3.578,\"maleBegin\":27.281,\"maleLast\":22.995,\"maleTrend\":-4.286\n",
      "Mississippi: \"femaleBegin\":23.844,\"femaleLast\":21.741,\"femaleTrend\":-2.103,\"maleBegin\":32.642,\"maleLast\":29.574,\"maleTrend\":-3.068\n",
      "Missouri: \"femaleBegin\":27.924,\"femaleLast\":25.687,\"femaleTrend\":-2.237,\"maleBegin\":31.641,\"maleLast\":28.596,\"maleTrend\":-3.045\n",
      "Montana: \"femaleBegin\":24.887,\"femaleLast\":21.252,\"femaleTrend\":-3.635,\"maleBegin\":25.732,\"maleLast\":23.844,\"maleTrend\":-1.888\n",
      "Nebraska: \"femaleBegin\":22.269,\"femaleLast\":20.164,\"femaleTrend\":-2.105,\"maleBegin\":26.208,\"maleLast\":23.058,\"maleTrend\":-3.15\n",
      "Nevada: \"femaleBegin\":26.435,\"femaleLast\":24.139,\"femaleTrend\":-2.296,\"maleBegin\":30.043,\"maleLast\":25.838,\"maleTrend\":-4.205\n",
      "New Hampshire: \"femaleBegin\":23.966,\"femaleLast\":17.968,\"femaleTrend\":-5.998,\"maleBegin\":26.724,\"maleLast\":20.912,\"maleTrend\":-5.812\n",
      "New Jersey: \"femaleBegin\":22.419,\"femaleLast\":16.976,\"femaleTrend\":-5.443,\"maleBegin\":25.296,\"maleLast\":20.436,\"maleTrend\":-4.86\n",
      "New Mexico: \"femaleBegin\":23.667,\"femaleLast\":19.096,\"femaleTrend\":-4.571,\"maleBegin\":27.798,\"maleLast\":24.127,\"maleTrend\":-3.671\n",
      "New York: \"femaleBegin\":24.801,\"femaleLast\":19.119,\"femaleTrend\":-5.682,\"maleBegin\":27.29,\"maleLast\":21.6,\"maleTrend\":-5.69\n",
      "North Carolina: \"femaleBegin\":24.673,\"femaleLast\":21.928,\"femaleTrend\":-2.745,\"maleBegin\":31.387,\"maleLast\":26.52,\"maleTrend\":-4.867\n",
      "North Dakota: \"femaleBegin\":23.155,\"femaleLast\":22.15,\"femaleTrend\":-1.005,\"maleBegin\":27.191,\"maleLast\":24.684,\"maleTrend\":-2.507\n",
      "Ohio: \"femaleBegin\":28.28,\"femaleLast\":24.194,\"femaleTrend\":-4.086,\"maleBegin\":31.427,\"maleLast\":26.654,\"maleTrend\":-4.773\n",
      "Oklahoma: \"femaleBegin\":27.973,\"femaleLast\":25.468,\"femaleTrend\":-2.505,\"maleBegin\":31.325,\"maleLast\":27.877,\"maleTrend\":-3.448\n",
      "Oregon: \"femaleBegin\":23.411,\"femaleLast\":21.064,\"femaleTrend\":-2.347,\"maleBegin\":26.753,\"maleLast\":23.863,\"maleTrend\":-2.89\n",
      "Pennsylvania: \"femaleBegin\":26.688,\"femaleLast\":22.358,\"femaleTrend\":-4.33,\"maleBegin\":29.102,\"maleLast\":24.421,\"maleTrend\":-4.681\n",
      "Rhode Island: \"femaleBegin\":23.66,\"femaleLast\":17.052,\"femaleTrend\":-6.608,\"maleBegin\":25.112,\"maleLast\":19.904,\"maleTrend\":-5.208\n",
      "Alaska: \"femaleBegin\":29.603,\"femaleLast\":25.069,\"femaleTrend\":-4.534,\"maleBegin\":33.7,\"maleLast\":28.07,\"maleTrend\":-5.63\n",
      "South Carolina: \"femaleBegin\":24.875,\"femaleLast\":20.181,\"femaleTrend\":-4.694,\"maleBegin\":32.696,\"maleLast\":27.756,\"maleTrend\":-4.94\n",
      "South Dakota: \"femaleBegin\":24.411,\"femaleLast\":21.432,\"femaleTrend\":-2.979,\"maleBegin\":27.933,\"maleLast\":24.339,\"maleTrend\":-3.594\n",
      "Tennessee: \"femaleBegin\":28.266,\"femaleLast\":25.738,\"femaleTrend\":-2.528,\"maleBegin\":33.017,\"maleLast\":28.492,\"maleTrend\":-4.525\n",
      "Texas: \"femaleBegin\":22.43,\"femaleLast\":18.531,\"femaleTrend\":-3.899,\"maleBegin\":27.559,\"maleLast\":24.046,\"maleTrend\":-3.513\n",
      "Utah: \"femaleBegin\":16.594,\"femaleLast\":14.312,\"femaleTrend\":-2.282,\"maleBegin\":20.296,\"maleLast\":18.18,\"maleTrend\":-2.116\n",
      "Vermont: \"femaleBegin\":22.874,\"femaleLast\":16.611,\"femaleTrend\":-6.263,\"maleBegin\":25.042,\"maleLast\":20.354,\"maleTrend\":-4.688\n",
      "Virginia: \"femaleBegin\":23.722,\"femaleLast\":21.345,\"femaleTrend\":-2.377,\"maleBegin\":29.623,\"maleLast\":25.38,\"maleTrend\":-4.243\n",
      "Washington: \"femaleBegin\":22.992,\"femaleLast\":19.179,\"femaleTrend\":-3.813,\"maleBegin\":25.494,\"maleLast\":21.474,\"maleTrend\":-4.02\n",
      "West Virginia: \"femaleBegin\":29.699,\"femaleLast\":27.673,\"femaleTrend\":-2.026,\"maleBegin\":31.861,\"maleLast\":30.465,\"maleTrend\":-1.396\n",
      "Wisconsin: \"femaleBegin\":24.433,\"femaleLast\":21.136,\"femaleTrend\":-3.297,\"maleBegin\":28.146,\"maleLast\":23.675,\"maleTrend\":-4.471\n",
      "Wyoming: \"femaleBegin\":24.352,\"femaleLast\":19.939,\"femaleTrend\":-4.413,\"maleBegin\":25.952,\"maleLast\":23.218,\"maleTrend\":-2.734\n"
     ]
    }
   ],
   "source": [
    "calculator('smoke_clean_d3.csv','Alabama')\n",
    "calculator('smoke_clean_d3.csv','Alaska')\n",
    "calculator('smoke_clean_d3.csv','Arizona')\n",
    "calculator('smoke_clean_d3.csv','Arkansas')\n",
    "calculator('smoke_clean_d3.csv','California')\n",
    "calculator('smoke_clean_d3.csv','Colorado')\n",
    "calculator('smoke_clean_d3.csv','Connecticut')\n",
    "calculator('smoke_clean_d3.csv','Delaware')\n",
    "calculator('smoke_clean_d3.csv','District Of Columbia')\n",
    "calculator('smoke_clean_d3.csv','Florida')\n",
    "calculator('smoke_clean_d3.csv','Georgia')\n",
    "calculator('smoke_clean_d3.csv','Hawaii')\n",
    "calculator('smoke_clean_d3.csv','Idaho')\n",
    "calculator('smoke_clean_d3.csv','Illinois')\n",
    "calculator('smoke_clean_d3.csv','Indiana')\n",
    "calculator('smoke_clean_d3.csv','Iowa')\n",
    "calculator('smoke_clean_d3.csv','Kansas')\n",
    "calculator('smoke_clean_d3.csv','Kentucky')\n",
    "calculator('smoke_clean_d3.csv','Louisiana')\n",
    "calculator('smoke_clean_d3.csv','Maine')\n",
    "calculator('smoke_clean_d3.csv','Maryland')\n",
    "calculator('smoke_clean_d3.csv','Massachusetts')\n",
    "calculator('smoke_clean_d3.csv','Michigan')\n",
    "calculator('smoke_clean_d3.csv','Minnesota')\n",
    "calculator('smoke_clean_d3.csv','Mississippi')\n",
    "calculator('smoke_clean_d3.csv','Missouri')\n",
    "calculator('smoke_clean_d3.csv','Montana')\n",
    "calculator('smoke_clean_d3.csv','Nebraska')\n",
    "calculator('smoke_clean_d3.csv','Nevada')\n",
    "calculator('smoke_clean_d3.csv','New Hampshire')\n",
    "calculator('smoke_clean_d3.csv','New Jersey')\n",
    "calculator('smoke_clean_d3.csv','New Mexico')\n",
    "calculator('smoke_clean_d3.csv','New York')\n",
    "calculator('smoke_clean_d3.csv','North Carolina')\n",
    "calculator('smoke_clean_d3.csv','North Dakota')\n",
    "calculator('smoke_clean_d3.csv','Ohio')\n",
    "calculator('smoke_clean_d3.csv','Oklahoma')\n",
    "calculator('smoke_clean_d3.csv','Oregon')\n",
    "calculator('smoke_clean_d3.csv','Pennsylvania')\n",
    "calculator('smoke_clean_d3.csv','Rhode Island')\n",
    "calculator('smoke_clean_d3.csv','Alaska')\n",
    "calculator('smoke_clean_d3.csv','South Carolina')\n",
    "calculator('smoke_clean_d3.csv','South Dakota')\n",
    "calculator('smoke_clean_d3.csv','Tennessee')\n",
    "calculator('smoke_clean_d3.csv','Texas')\n",
    "calculator('smoke_clean_d3.csv','Utah')\n",
    "calculator('smoke_clean_d3.csv','Vermont')\n",
    "calculator('smoke_clean_d3.csv','Virginia')\n",
    "calculator('smoke_clean_d3.csv','Washington')\n",
    "calculator('smoke_clean_d3.csv','West Virginia')\n",
    "calculator('smoke_clean_d3.csv','Wisconsin')\n",
    "calculator('smoke_clean_d3.csv','Wyoming')"
   ]
  }
 ],
 "metadata": {
  "kernelspec": {
   "display_name": "Python 3",
   "language": "python",
   "name": "python3"
  },
  "language_info": {
   "codemirror_mode": {
    "name": "ipython",
    "version": 3
   },
   "file_extension": ".py",
   "mimetype": "text/x-python",
   "name": "python",
   "nbconvert_exporter": "python",
   "pygments_lexer": "ipython3",
   "version": "3.8.3"
  }
 },
 "nbformat": 4,
 "nbformat_minor": 4
}
